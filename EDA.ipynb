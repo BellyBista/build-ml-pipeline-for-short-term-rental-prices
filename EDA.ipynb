{
 "cells": [
  {
   "cell_type": "code",
   "execution_count": 1,
   "id": "37070117",
   "metadata": {},
   "outputs": [
    {
     "name": "stderr",
     "output_type": "stream",
     "text": [
      "\u001b[34m\u001b[1mwandb\u001b[0m: Currently logged in as: \u001b[33mquadri-bello\u001b[0m (use `wandb login --relogin` to force relogin)\n",
      "/Users/quadribello/miniconda3/envs/nyc_airbnb_dev/lib/python3.9/site-packages/IPython/html.py:12: ShimWarning: The `IPython.html` package has been deprecated since IPython 4.0. You should import from `notebook` instead. `IPython.html.widgets` has moved to `ipywidgets`.\n",
      "  warn(\"The `IPython.html` package has been deprecated since IPython 4.0. \"\n",
      "\u001b[34m\u001b[1mwandb\u001b[0m: wandb version 0.15.3 is available!  To upgrade, please run:\n",
      "\u001b[34m\u001b[1mwandb\u001b[0m:  $ pip install wandb --upgrade\n"
     ]
    },
    {
     "data": {
      "text/html": [
       "\n",
       "                Tracking run with wandb version 0.10.31<br/>\n",
       "                Syncing run <strong style=\"color:#cdcd00\">breezy-silence-3</strong> to <a href=\"https://wandb.ai\" target=\"_blank\">Weights & Biases</a> <a href=\"https://docs.wandb.com/integrations/jupyter.html\" target=\"_blank\">(Documentation)</a>.<br/>\n",
       "                Project page: <a href=\"https://wandb.ai/quadri-bello/nyc_airbnb\" target=\"_blank\">https://wandb.ai/quadri-bello/nyc_airbnb</a><br/>\n",
       "                Run page: <a href=\"https://wandb.ai/quadri-bello/nyc_airbnb/runs/2yxnsmob\" target=\"_blank\">https://wandb.ai/quadri-bello/nyc_airbnb/runs/2yxnsmob</a><br/>\n",
       "                Run data is saved locally in <code>/Users/quadribello/build-ml-pipeline-for-short-term-rental-prices/wandb/run-20230520_191233-2yxnsmob</code><br/><br/>\n",
       "            "
      ],
      "text/plain": [
       "<IPython.core.display.HTML object>"
      ]
     },
     "metadata": {},
     "output_type": "display_data"
    }
   ],
   "source": [
    "import wandb\n",
    "import pandas as pd\n",
    "\n",
    "run = wandb.init(project=\"nyc_airbnb\", group=\"eda\", save_code=True)\n",
    "local_path = wandb.use_artifact(\"sample.csv:latest\").file()\n",
    "df = pd.read_csv(local_path)"
   ]
  },
  {
   "cell_type": "code",
   "execution_count": 6,
   "id": "05cc8f4a",
   "metadata": {},
   "outputs": [
    {
     "name": "stdout",
     "output_type": "stream",
     "text": [
      "Collecting ipywidgets\n",
      "  Downloading ipywidgets-8.0.6-py3-none-any.whl (138 kB)\n",
      "\u001b[K     |████████████████████████████████| 138 kB 1.2 MB/s eta 0:00:01\n",
      "\u001b[?25hRequirement already satisfied: ipykernel>=4.5.1 in /Users/quadribello/miniconda3/envs/nyc_airbnb_dev/lib/python3.9/site-packages (from ipywidgets) (5.5.5)\n",
      "Requirement already satisfied: traitlets>=4.3.1 in /Users/quadribello/miniconda3/envs/nyc_airbnb_dev/lib/python3.9/site-packages (from ipywidgets) (5.9.0)\n",
      "Requirement already satisfied: ipython>=6.1.0 in /Users/quadribello/miniconda3/envs/nyc_airbnb_dev/lib/python3.9/site-packages (from ipywidgets) (7.21.0)\n",
      "Requirement already satisfied: appnope in /Users/quadribello/miniconda3/envs/nyc_airbnb_dev/lib/python3.9/site-packages (from ipykernel>=4.5.1->ipywidgets) (0.1.3)\n",
      "Requirement already satisfied: tornado>=4.2 in /Users/quadribello/miniconda3/envs/nyc_airbnb_dev/lib/python3.9/site-packages (from ipykernel>=4.5.1->ipywidgets) (6.3.2)\n",
      "Requirement already satisfied: jupyter-client in /Users/quadribello/miniconda3/envs/nyc_airbnb_dev/lib/python3.9/site-packages (from ipykernel>=4.5.1->ipywidgets) (8.2.0)\n",
      "Requirement already satisfied: jedi>=0.16 in /Users/quadribello/miniconda3/envs/nyc_airbnb_dev/lib/python3.9/site-packages (from ipython>=6.1.0->ipywidgets) (0.18.2)\n",
      "Requirement already satisfied: pexpect>4.3 in /Users/quadribello/miniconda3/envs/nyc_airbnb_dev/lib/python3.9/site-packages (from ipython>=6.1.0->ipywidgets) (4.8.0)\n",
      "Requirement already satisfied: setuptools>=18.5 in /Users/quadribello/miniconda3/envs/nyc_airbnb_dev/lib/python3.9/site-packages (from ipython>=6.1.0->ipywidgets) (59.8.0)\n",
      "Requirement already satisfied: prompt-toolkit!=3.0.0,!=3.0.1,<3.1.0,>=2.0.0 in /Users/quadribello/miniconda3/envs/nyc_airbnb_dev/lib/python3.9/site-packages (from ipython>=6.1.0->ipywidgets) (3.0.38)\n",
      "Requirement already satisfied: backcall in /Users/quadribello/miniconda3/envs/nyc_airbnb_dev/lib/python3.9/site-packages (from ipython>=6.1.0->ipywidgets) (0.2.0)\n",
      "Requirement already satisfied: pygments in /Users/quadribello/miniconda3/envs/nyc_airbnb_dev/lib/python3.9/site-packages (from ipython>=6.1.0->ipywidgets) (2.15.1)\n",
      "Requirement already satisfied: decorator in /Users/quadribello/miniconda3/envs/nyc_airbnb_dev/lib/python3.9/site-packages (from ipython>=6.1.0->ipywidgets) (5.1.1)\n",
      "Requirement already satisfied: pickleshare in /Users/quadribello/miniconda3/envs/nyc_airbnb_dev/lib/python3.9/site-packages (from ipython>=6.1.0->ipywidgets) (0.7.5)\n",
      "Requirement already satisfied: parso<0.9.0,>=0.8.0 in /Users/quadribello/miniconda3/envs/nyc_airbnb_dev/lib/python3.9/site-packages (from jedi>=0.16->ipython>=6.1.0->ipywidgets) (0.8.3)\n",
      "Collecting jupyterlab-widgets~=3.0.7\n",
      "  Downloading jupyterlab_widgets-3.0.7-py3-none-any.whl (198 kB)\n",
      "\u001b[K     |████████████████████████████████| 198 kB 2.0 MB/s eta 0:00:01\n",
      "\u001b[?25hRequirement already satisfied: ptyprocess>=0.5 in /Users/quadribello/miniconda3/envs/nyc_airbnb_dev/lib/python3.9/site-packages (from pexpect>4.3->ipython>=6.1.0->ipywidgets) (0.7.0)\n",
      "Requirement already satisfied: wcwidth in /Users/quadribello/miniconda3/envs/nyc_airbnb_dev/lib/python3.9/site-packages (from prompt-toolkit!=3.0.0,!=3.0.1,<3.1.0,>=2.0.0->ipython>=6.1.0->ipywidgets) (0.2.6)\n",
      "Collecting widgetsnbextension~=4.0.7\n",
      "  Downloading widgetsnbextension-4.0.7-py3-none-any.whl (2.1 MB)\n",
      "\u001b[K     |████████████████████████████████| 2.1 MB 1.8 MB/s eta 0:00:01\n",
      "\u001b[?25hRequirement already satisfied: python-dateutil>=2.8.2 in /Users/quadribello/miniconda3/envs/nyc_airbnb_dev/lib/python3.9/site-packages (from jupyter-client->ipykernel>=4.5.1->ipywidgets) (2.8.2)\n",
      "Requirement already satisfied: jupyter-core!=5.0.*,>=4.12 in /Users/quadribello/miniconda3/envs/nyc_airbnb_dev/lib/python3.9/site-packages (from jupyter-client->ipykernel>=4.5.1->ipywidgets) (5.3.0)\n",
      "Requirement already satisfied: importlib-metadata>=4.8.3 in /Users/quadribello/miniconda3/envs/nyc_airbnb_dev/lib/python3.9/site-packages (from jupyter-client->ipykernel>=4.5.1->ipywidgets) (6.6.0)\n",
      "Requirement already satisfied: pyzmq>=23.0 in /Users/quadribello/miniconda3/envs/nyc_airbnb_dev/lib/python3.9/site-packages (from jupyter-client->ipykernel>=4.5.1->ipywidgets) (25.0.2)\n",
      "Requirement already satisfied: zipp>=0.5 in /Users/quadribello/miniconda3/envs/nyc_airbnb_dev/lib/python3.9/site-packages (from importlib-metadata>=4.8.3->jupyter-client->ipykernel>=4.5.1->ipywidgets) (3.15.0)\n",
      "Requirement already satisfied: platformdirs>=2.5 in /Users/quadribello/miniconda3/envs/nyc_airbnb_dev/lib/python3.9/site-packages (from jupyter-core!=5.0.*,>=4.12->jupyter-client->ipykernel>=4.5.1->ipywidgets) (3.5.1)\n",
      "Requirement already satisfied: six>=1.5 in /Users/quadribello/miniconda3/envs/nyc_airbnb_dev/lib/python3.9/site-packages (from python-dateutil>=2.8.2->jupyter-client->ipykernel>=4.5.1->ipywidgets) (1.16.0)\n",
      "Installing collected packages: widgetsnbextension, jupyterlab-widgets, ipywidgets\n",
      "Successfully installed ipywidgets-8.0.6 jupyterlab-widgets-3.0.7 widgetsnbextension-4.0.7\n"
     ]
    }
   ],
   "source": [
    "!pip install ipywidgets"
   ]
  },
  {
   "cell_type": "code",
   "execution_count": 11,
   "id": "5a960968",
   "metadata": {},
   "outputs": [],
   "source": [
    "import pandas_profiling\n",
    "\n",
    "profile = pandas_profiling.ProfileReport(df)\n",
    "profile.to_widgets()"
   ]
  },
  {
   "cell_type": "code",
   "execution_count": 12,
   "id": "42c13e5f",
   "metadata": {},
   "outputs": [],
   "source": [
    "# Drop outliers\n",
    "min_price = 10\n",
    "max_price = 350\n",
    "idx = df['price'].between(min_price, max_price)\n",
    "df = df[idx].copy()\n",
    "# Convert last_review to datetime\n",
    "df['last_review'] = pd.to_datetime(df['last_review'])"
   ]
  },
  {
   "cell_type": "code",
   "execution_count": 13,
   "id": "dda7bc81",
   "metadata": {},
   "outputs": [],
   "source": [
    "df.info()"
   ]
  },
  {
   "cell_type": "code",
   "execution_count": 14,
   "id": "206a4e99",
   "metadata": {},
   "outputs": [],
   "source": [
    "run.finish()"
   ]
  },
  {
   "cell_type": "code",
   "execution_count": null,
   "id": "ab869f8b",
   "metadata": {},
   "outputs": [],
   "source": []
  }
 ],
 "metadata": {
  "kernelspec": {
   "display_name": "Python 3",
   "language": "python",
   "name": "python3"
  },
  "language_info": {
   "codemirror_mode": {
    "name": "ipython",
    "version": 3
   },
   "file_extension": ".py",
   "mimetype": "text/x-python",
   "name": "python",
   "nbconvert_exporter": "python",
   "pygments_lexer": "ipython3",
   "version": "3.9.15"
  }
 },
 "nbformat": 4,
 "nbformat_minor": 5
}
